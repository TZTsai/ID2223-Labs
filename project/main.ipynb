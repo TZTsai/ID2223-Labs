{
  "cells": [
    {
      "cell_type": "markdown",
      "metadata": {
        "id": "u282JXEZ6A_U"
      },
      "source": [
        "   # Distributed Deep Reinforcement Learning for Multiple Stock Trading"
      ]
    },
    {
      "cell_type": "markdown",
      "metadata": {
        "id": "fMw3QDiL6A_k"
      },
      "source": [
        "   <a id='0'></a>\n",
        "   # Part 1. Problem Definition"
      ]
    },
    {
      "cell_type": "markdown",
      "metadata": {
        "id": "7GKDqJIB6A_o"
      },
      "source": [
        "   This problem is to design an automated trading solution for single stock trading. We model the stock trading process as a Markov Decision Process (MDP). We then formulate our trading goal as a maximization problem.\n",
        "\n",
        "   The algorithm is trained using Deep Reinforcement Learning (DRL) algorithms and the components of the reinforcement learning environment are:\n",
        "\n",
        "\n",
        "   * Action: The action space describes the allowed actions that the agent interacts with the\n",
        "   environment. Normally, a ∈ A includes three actions: a ∈ {−1, 0, 1}, where −1, 0, 1 represent\n",
        "   selling, holding, and buying one stock. Also, an action can be carried upon multiple shares. We use\n",
        "   an action space {−k, ..., −1, 0, 1, ..., k}, where k denotes the number of shares. For example, \"Buy\n",
        "   10 shares of AAPL\" or \"Sell 10 shares of AAPL\" are 10 or −10, respectively\n",
        "\n",
        "   * Reward function: r(s, a, s′) is the incentive mechanism for an agent to learn a better action. The change of the portfolio value when action a is taken at state s and arriving at new state s',  i.e., r(s, a, s′) = v′ − v, where v′ and v represent the portfolio\n",
        "   values at state s′ and s, respectively\n",
        "\n",
        "   * State: The state space describes the observations that the agent receives from the environment. Just as a human trader needs to analyze various information before executing a trade, so\n",
        "   our trading agent observes many different features to better learn in an interactive environment.\n",
        "\n",
        "   * Environment: Dow 30 consituents\n",
        "\n",
        "\n",
        "   The data of the single stock that we will be using for this case study is obtained from Yahoo Finance API. The data contains Open-High-Low-Close price and volume.\n"
      ]
    },
    {
      "cell_type": "markdown",
      "metadata": {
        "id": "dyv2PCoH6A_y"
      },
      "source": [
        "   <a id='1'></a>\n",
        "   # Part 2. Getting Started- Load Python Packages"
      ]
    },
    {
      "cell_type": "markdown",
      "metadata": {
        "id": "MOiuYuNB6A_0"
      },
      "source": [
        "   <a id='1.1'></a>\n",
        "   ## 2.1. Install all required packages\n"
      ]
    },
    {
      "cell_type": "code",
      "execution_count": null,
      "metadata": {
        "id": "Jb_Fy-uw6A_2"
      },
      "outputs": [],
      "source": [
        "!pip install git+https://github.com/AI4Finance-LLC/FinRL-Library.git"
      ]
    },
    {
      "cell_type": "markdown",
      "metadata": {
        "id": "Widh6glF6BAE"
      },
      "source": [
        "\n",
        "   <a id='1.2'></a>\n",
        "   ## 2.2. Check if the additional packages needed are present, if not install them.\n",
        "   * Yahoo Finance API\n",
        "   * pandas\n",
        "   * numpy\n",
        "   * matplotlib\n",
        "   * stockstats\n",
        "   * OpenAI gym\n",
        "   * stable-baselines\n",
        "   * tensorflow\n",
        "   * pyfolio"
      ]
    },
    {
      "cell_type": "markdown",
      "metadata": {
        "id": "bTZZciXW6BAH"
      },
      "source": [
        "   <a id='1.3'></a>\n",
        "   ## 2.3. Import Packages"
      ]
    },
    {
      "cell_type": "code",
      "execution_count": 1,
      "metadata": {
        "colab": {
          "base_uri": "https://localhost:8080/"
        },
        "id": "madrsxqz6BAK",
        "outputId": "13cc8edb-96bb-48e6-9fcb-6cface00f438"
      },
      "outputs": [
        {
          "name": "stderr",
          "output_type": "stream",
          "text": [
            "/home/tcai/miniconda3/envs/dwai/lib/python3.8/site-packages/pyfolio/pos.py:26: UserWarning: Module \"zipline.assets\" not found; multipliers will not be applied to position notionals.\n",
            "  warnings.warn(\n"
          ]
        }
      ],
      "source": [
        "import sys, os\n",
        "import pandas as pd\n",
        "import numpy as np\n",
        "import matplotlib.pyplot as plt\n",
        "import datetime\n",
        "\n",
        "%matplotlib inline\n",
        "\n",
        "from finrl.apps import config\n",
        "from finrl.finrl_meta.preprocessor.preprocessors import FeatureEngineer, data_split\n",
        "from finrl.finrl_meta.env_stock_trading.env_stocktrading_np import StockTradingEnv\n",
        "from finrl.plot import backtest_stats, backtest_plot, get_baseline\n",
        "\n",
        "import impala\n",
        "\n",
        "from absl import flags\n",
        "FLAGS = flags.FLAGS\n",
        "FLAGS(sys.argv, known_only=True)\n",
        "\n",
        "import sys\n",
        "sys.path.append(\"../FinRL-Library\")\n",
        "\n",
        "import itertools\n",
        "import logging\n",
        "\n",
        "logging.basicConfig(level=logging.INFO)\n"
      ]
    },
    {
      "cell_type": "markdown",
      "metadata": {
        "id": "nJCNKmjc6BAV"
      },
      "source": [
        "   <a id='1.4'></a>\n",
        "   ## 2.4. Create Folders"
      ]
    },
    {
      "cell_type": "code",
      "execution_count": 2,
      "metadata": {
        "id": "QYNxZqoS6BAX"
      },
      "outputs": [],
      "source": [
        "if not os.path.exists(\"./\" + config.DATA_SAVE_DIR):\n",
        "    os.makedirs(\"./\" + config.DATA_SAVE_DIR)\n",
        "if not os.path.exists(\"./\" + config.TRAINED_MODEL_DIR):\n",
        "    os.makedirs(\"./\" + config.TRAINED_MODEL_DIR)\n",
        "if not os.path.exists(\"./\" + config.TENSORBOARD_LOG_DIR):\n",
        "    os.makedirs(\"./\" + config.TENSORBOARD_LOG_DIR)\n",
        "if not os.path.exists(\"./\" + config.RESULTS_DIR):\n",
        "    os.makedirs(\"./\" + config.RESULTS_DIR)\n",
        "\n"
      ]
    },
    {
      "cell_type": "markdown",
      "metadata": {
        "id": "0mfBUf0U6BAg"
      },
      "source": [
        "   <a id='2'></a>\n",
        "   # Part 3. Download Data\n",
        "   Yahoo Finance is a website that provides stock data, financial news, financial reports, etc. All the data provided by Yahoo Finance is free.\n",
        "   * FinRL uses a class **YahooDownloader** to fetch data from Yahoo Finance API\n",
        "   * Call Limit: Using the Public API (without authentication), you are limited to 2,000 requests per hour per IP (or up to a total of 48,000 requests a day).\n"
      ]
    },
    {
      "cell_type": "markdown",
      "metadata": {
        "id": "H9H7Bo-h6BAk"
      },
      "source": [
        "\n",
        "\n",
        "   -----\n",
        "   class YahooDownloader:\n",
        "       Provides methods for retrieving daily stock data from\n",
        "       Yahoo Finance API\n",
        "\n",
        "       Attributes\n",
        "       ----------\n",
        "           start_date : str\n",
        "               start date of the data (modified from config.py)\n",
        "           end_date : str\n",
        "               end date of the data (modified from config.py)\n",
        "           ticker_list : list\n",
        "               a list of stock tickers (modified from config.py)\n",
        "\n",
        "       Methods\n",
        "       -------\n",
        "       fetch_data()\n",
        "           Fetches data from yahoo API\n"
      ]
    },
    {
      "cell_type": "code",
      "execution_count": 3,
      "metadata": {
        "colab": {
          "base_uri": "https://localhost:8080/",
          "height": 35
        },
        "id": "mnMV9t5P6BAn",
        "outputId": "ea992e35-ed7e-4945-9a9e-899d2b0eb3a3"
      },
      "outputs": [
        {
          "data": {
            "text/plain": [
              "'2009-01-01'"
            ]
          },
          "execution_count": 3,
          "metadata": {},
          "output_type": "execute_result"
        }
      ],
      "source": [
        "# from config.py start_date is a string\n",
        "config.START_DATE\n"
      ]
    },
    {
      "cell_type": "code",
      "execution_count": 4,
      "metadata": {
        "colab": {
          "base_uri": "https://localhost:8080/",
          "height": 35
        },
        "id": "Z4PDJYpj6BAp",
        "outputId": "00edddc2-2947-4681-acaf-249b584b173c"
      },
      "outputs": [
        {
          "data": {
            "text/plain": [
              "'2021-10-31'"
            ]
          },
          "execution_count": 4,
          "metadata": {},
          "output_type": "execute_result"
        }
      ],
      "source": [
        "# from config.py end_date is a string\n",
        "config.END_DATE\n"
      ]
    },
    {
      "cell_type": "code",
      "execution_count": 5,
      "metadata": {
        "colab": {
          "base_uri": "https://localhost:8080/"
        },
        "id": "oeKl3yVj6BAs",
        "outputId": "722e48a1-493e-4a40-95fc-77c6902ecc89"
      },
      "outputs": [
        {
          "name": "stdout",
          "output_type": "stream",
          "text": [
            "['AXP', 'AMGN', 'AAPL', 'BA', 'CAT', 'CSCO', 'CVX', 'GS', 'HD', 'HON', 'IBM', 'INTC', 'JNJ', 'KO', 'JPM', 'MCD', 'MMM', 'MRK', 'MSFT', 'NKE', 'PG', 'TRV', 'UNH', 'CRM', 'VZ', 'V', 'WBA', 'WMT', 'DIS', 'DOW']\n"
          ]
        }
      ],
      "source": [
        "print(config.DOW_30_TICKER)\n"
      ]
    },
    {
      "cell_type": "code",
      "execution_count": 6,
      "metadata": {
        "id": "ZfaRjTds6BAu"
      },
      "outputs": [],
      "source": [
        "data_filename = 'processed_data.csv'\n",
        "data_path = os.path.join(config.DATA_SAVE_DIR, data_filename)\n",
        "\n",
        "if os.path.exists(data_path):\n",
        "    data = pd.read_csv(data_path)\n",
        "else:\n",
        "    data = None\n"
      ]
    },
    {
      "cell_type": "code",
      "execution_count": 7,
      "metadata": {
        "id": "04YusK986BAz"
      },
      "outputs": [],
      "source": [
        "if data is None:\n",
        "  import yfinance as yf\n",
        "  data_df = pd.DataFrame()\n",
        "  for tic in config.DOW_30_TICKER:\n",
        "      temp_df = yf.download(tic, start='2009-01-01', end='2021-12-31')\n",
        "      temp_df[\"tic\"] = tic\n",
        "      data_df = data_df.append(temp_df)\n",
        "      \n",
        "  data_df = data_df.reset_index()\n",
        "  data_df.columns = [\n",
        "      \"date\", \"open\",\n",
        "      \"high\", \"low\",\n",
        "      \"close\", \"adjcp\",\n",
        "      \"volume\", \"tic\",\n",
        "  ]\n",
        "  \n",
        "  # create day of the week column (monday = 0)\n",
        "  data_df[\"day\"] = data_df[\"date\"].dt.dayofweek\n",
        "  # convert date to standard string format, easy to filter\n",
        "  data_df[\"date\"] = data_df.date.apply(lambda x: x.strftime(\"%Y-%m-%d\"))\n",
        "  # drop missing data\n",
        "  data_df = data_df.dropna()\n",
        "  data_df = data_df.reset_index(drop=True)\n",
        "  print(\"Shape of DataFrame: \", data_df.shape)\n",
        "  # print(\"Display DataFrame: \", data_df.head())\n",
        "\n",
        "  data_df = data_df.sort_values(\n",
        "      by=[\"date\", \"tic\"]).reset_index(drop=True)\n"
      ]
    },
    {
      "cell_type": "markdown",
      "metadata": {
        "id": "h77emGY76BA2"
      },
      "source": [
        "   # Part 4: Preprocess Data\n",
        "   Data preprocessing is a crucial step for training a high quality machine learning model. We need to check for missing data and do feature engineering in order to convert the data into a model-ready state.\n",
        "   * Add technical indicators. In practical trading, various information needs to be taken into account, for example the historical stock prices, current holding shares, technical indicators, etc. In this article, we demonstrate two trend-following technical indicators: MACD and RSI.\n",
        "   * Add turbulence index. Risk-aversion reflects whether an investor will choose to preserve the capital. It also influences one's trading strategy when facing different market volatility level. To control the risk in a worst-case scenario, such as financial crisis of 2007–2008, FinRL employs the financial turbulence index that measures extreme asset price fluctuation."
      ]
    },
    {
      "cell_type": "code",
      "execution_count": 8,
      "metadata": {
        "colab": {
          "base_uri": "https://localhost:8080/",
          "height": 427
        },
        "id": "Bf6wLdQe6BA4",
        "outputId": "728f889d-7162-4c36-852d-62b3b169db28"
      },
      "outputs": [
        {
          "data": {
            "text/html": [
              "<div>\n",
              "<style scoped>\n",
              "    .dataframe tbody tr th:only-of-type {\n",
              "        vertical-align: middle;\n",
              "    }\n",
              "\n",
              "    .dataframe tbody tr th {\n",
              "        vertical-align: top;\n",
              "    }\n",
              "\n",
              "    .dataframe thead th {\n",
              "        text-align: right;\n",
              "    }\n",
              "</style>\n",
              "<table border=\"1\" class=\"dataframe\">\n",
              "  <thead>\n",
              "    <tr style=\"text-align: right;\">\n",
              "      <th></th>\n",
              "      <th>date</th>\n",
              "      <th>tic</th>\n",
              "      <th>open</th>\n",
              "      <th>high</th>\n",
              "      <th>low</th>\n",
              "      <th>close</th>\n",
              "      <th>adjcp</th>\n",
              "      <th>volume</th>\n",
              "      <th>day</th>\n",
              "      <th>macd</th>\n",
              "      <th>boll_ub</th>\n",
              "      <th>boll_lb</th>\n",
              "      <th>rsi_30</th>\n",
              "      <th>cci_30</th>\n",
              "      <th>dx_30</th>\n",
              "      <th>close_30_sma</th>\n",
              "      <th>close_60_sma</th>\n",
              "      <th>vix</th>\n",
              "      <th>turbulence</th>\n",
              "    </tr>\n",
              "  </thead>\n",
              "  <tbody>\n",
              "    <tr>\n",
              "      <th>0</th>\n",
              "      <td>2008-12-31</td>\n",
              "      <td>AAPL</td>\n",
              "      <td>3.070357</td>\n",
              "      <td>3.133571</td>\n",
              "      <td>3.047857</td>\n",
              "      <td>3.048214</td>\n",
              "      <td>2.613432</td>\n",
              "      <td>607541200.0</td>\n",
              "      <td>2.0</td>\n",
              "      <td>0.0</td>\n",
              "      <td>3.417383</td>\n",
              "      <td>2.871901</td>\n",
              "      <td>100.0</td>\n",
              "      <td>66.666667</td>\n",
              "      <td>100.0</td>\n",
              "      <td>3.048214</td>\n",
              "      <td>3.048214</td>\n",
              "      <td>40.0</td>\n",
              "      <td>0.0</td>\n",
              "    </tr>\n",
              "    <tr>\n",
              "      <th>1</th>\n",
              "      <td>2008-12-31</td>\n",
              "      <td>AMGN</td>\n",
              "      <td>57.110001</td>\n",
              "      <td>58.220001</td>\n",
              "      <td>57.060001</td>\n",
              "      <td>57.750000</td>\n",
              "      <td>44.656998</td>\n",
              "      <td>6287200.0</td>\n",
              "      <td>2.0</td>\n",
              "      <td>0.0</td>\n",
              "      <td>3.417383</td>\n",
              "      <td>2.871901</td>\n",
              "      <td>100.0</td>\n",
              "      <td>66.666667</td>\n",
              "      <td>100.0</td>\n",
              "      <td>57.750000</td>\n",
              "      <td>57.750000</td>\n",
              "      <td>40.0</td>\n",
              "      <td>0.0</td>\n",
              "    </tr>\n",
              "    <tr>\n",
              "      <th>2</th>\n",
              "      <td>2008-12-31</td>\n",
              "      <td>AXP</td>\n",
              "      <td>17.969999</td>\n",
              "      <td>18.750000</td>\n",
              "      <td>17.910000</td>\n",
              "      <td>18.549999</td>\n",
              "      <td>14.950783</td>\n",
              "      <td>9625600.0</td>\n",
              "      <td>2.0</td>\n",
              "      <td>0.0</td>\n",
              "      <td>3.417383</td>\n",
              "      <td>2.871901</td>\n",
              "      <td>100.0</td>\n",
              "      <td>66.666667</td>\n",
              "      <td>100.0</td>\n",
              "      <td>18.549999</td>\n",
              "      <td>18.549999</td>\n",
              "      <td>40.0</td>\n",
              "      <td>0.0</td>\n",
              "    </tr>\n",
              "    <tr>\n",
              "      <th>3</th>\n",
              "      <td>2008-12-31</td>\n",
              "      <td>BA</td>\n",
              "      <td>41.590000</td>\n",
              "      <td>43.049999</td>\n",
              "      <td>41.500000</td>\n",
              "      <td>42.669998</td>\n",
              "      <td>32.005901</td>\n",
              "      <td>5443100.0</td>\n",
              "      <td>2.0</td>\n",
              "      <td>0.0</td>\n",
              "      <td>3.417383</td>\n",
              "      <td>2.871901</td>\n",
              "      <td>100.0</td>\n",
              "      <td>66.666667</td>\n",
              "      <td>100.0</td>\n",
              "      <td>42.669998</td>\n",
              "      <td>42.669998</td>\n",
              "      <td>40.0</td>\n",
              "      <td>0.0</td>\n",
              "    </tr>\n",
              "    <tr>\n",
              "      <th>4</th>\n",
              "      <td>2008-12-31</td>\n",
              "      <td>CAT</td>\n",
              "      <td>43.700001</td>\n",
              "      <td>45.099998</td>\n",
              "      <td>43.700001</td>\n",
              "      <td>44.669998</td>\n",
              "      <td>30.925053</td>\n",
              "      <td>6277400.0</td>\n",
              "      <td>2.0</td>\n",
              "      <td>0.0</td>\n",
              "      <td>3.417383</td>\n",
              "      <td>2.871901</td>\n",
              "      <td>100.0</td>\n",
              "      <td>66.666667</td>\n",
              "      <td>100.0</td>\n",
              "      <td>44.669998</td>\n",
              "      <td>44.669998</td>\n",
              "      <td>40.0</td>\n",
              "      <td>0.0</td>\n",
              "    </tr>\n",
              "    <tr>\n",
              "      <th>5</th>\n",
              "      <td>2008-12-31</td>\n",
              "      <td>CRM</td>\n",
              "      <td>7.712500</td>\n",
              "      <td>8.130000</td>\n",
              "      <td>7.707500</td>\n",
              "      <td>8.002500</td>\n",
              "      <td>8.002500</td>\n",
              "      <td>5367600.0</td>\n",
              "      <td>2.0</td>\n",
              "      <td>0.0</td>\n",
              "      <td>3.417383</td>\n",
              "      <td>2.871901</td>\n",
              "      <td>100.0</td>\n",
              "      <td>66.666667</td>\n",
              "      <td>100.0</td>\n",
              "      <td>8.002500</td>\n",
              "      <td>8.002500</td>\n",
              "      <td>40.0</td>\n",
              "      <td>0.0</td>\n",
              "    </tr>\n",
              "    <tr>\n",
              "      <th>6</th>\n",
              "      <td>2008-12-31</td>\n",
              "      <td>CSCO</td>\n",
              "      <td>16.180000</td>\n",
              "      <td>16.549999</td>\n",
              "      <td>16.120001</td>\n",
              "      <td>16.299999</td>\n",
              "      <td>11.868506</td>\n",
              "      <td>37513700.0</td>\n",
              "      <td>2.0</td>\n",
              "      <td>0.0</td>\n",
              "      <td>3.417383</td>\n",
              "      <td>2.871901</td>\n",
              "      <td>100.0</td>\n",
              "      <td>66.666667</td>\n",
              "      <td>100.0</td>\n",
              "      <td>16.299999</td>\n",
              "      <td>16.299999</td>\n",
              "      <td>40.0</td>\n",
              "      <td>0.0</td>\n",
              "    </tr>\n",
              "    <tr>\n",
              "      <th>7</th>\n",
              "      <td>2008-12-31</td>\n",
              "      <td>CVX</td>\n",
              "      <td>72.900002</td>\n",
              "      <td>74.629997</td>\n",
              "      <td>72.900002</td>\n",
              "      <td>73.970001</td>\n",
              "      <td>44.129272</td>\n",
              "      <td>9964300.0</td>\n",
              "      <td>2.0</td>\n",
              "      <td>0.0</td>\n",
              "      <td>3.417383</td>\n",
              "      <td>2.871901</td>\n",
              "      <td>100.0</td>\n",
              "      <td>66.666667</td>\n",
              "      <td>100.0</td>\n",
              "      <td>73.970001</td>\n",
              "      <td>73.970001</td>\n",
              "      <td>40.0</td>\n",
              "      <td>0.0</td>\n",
              "    </tr>\n",
              "    <tr>\n",
              "      <th>8</th>\n",
              "      <td>2008-12-31</td>\n",
              "      <td>DIS</td>\n",
              "      <td>22.570000</td>\n",
              "      <td>22.950001</td>\n",
              "      <td>22.520000</td>\n",
              "      <td>22.690001</td>\n",
              "      <td>19.538343</td>\n",
              "      <td>9012100.0</td>\n",
              "      <td>2.0</td>\n",
              "      <td>0.0</td>\n",
              "      <td>3.417383</td>\n",
              "      <td>2.871901</td>\n",
              "      <td>100.0</td>\n",
              "      <td>66.666667</td>\n",
              "      <td>100.0</td>\n",
              "      <td>22.690001</td>\n",
              "      <td>22.690001</td>\n",
              "      <td>40.0</td>\n",
              "      <td>0.0</td>\n",
              "    </tr>\n",
              "    <tr>\n",
              "      <th>9</th>\n",
              "      <td>2008-12-31</td>\n",
              "      <td>GS</td>\n",
              "      <td>82.239998</td>\n",
              "      <td>86.150002</td>\n",
              "      <td>81.120003</td>\n",
              "      <td>84.389999</td>\n",
              "      <td>69.632217</td>\n",
              "      <td>14894100.0</td>\n",
              "      <td>2.0</td>\n",
              "      <td>0.0</td>\n",
              "      <td>3.417383</td>\n",
              "      <td>2.871901</td>\n",
              "      <td>100.0</td>\n",
              "      <td>66.666667</td>\n",
              "      <td>100.0</td>\n",
              "      <td>84.389999</td>\n",
              "      <td>84.389999</td>\n",
              "      <td>40.0</td>\n",
              "      <td>0.0</td>\n",
              "    </tr>\n",
              "  </tbody>\n",
              "</table>\n",
              "</div>"
            ],
            "text/plain": [
              "        date   tic       open       high        low      close      adjcp  \\\n",
              "0 2008-12-31  AAPL   3.070357   3.133571   3.047857   3.048214   2.613432   \n",
              "1 2008-12-31  AMGN  57.110001  58.220001  57.060001  57.750000  44.656998   \n",
              "2 2008-12-31   AXP  17.969999  18.750000  17.910000  18.549999  14.950783   \n",
              "3 2008-12-31    BA  41.590000  43.049999  41.500000  42.669998  32.005901   \n",
              "4 2008-12-31   CAT  43.700001  45.099998  43.700001  44.669998  30.925053   \n",
              "5 2008-12-31   CRM   7.712500   8.130000   7.707500   8.002500   8.002500   \n",
              "6 2008-12-31  CSCO  16.180000  16.549999  16.120001  16.299999  11.868506   \n",
              "7 2008-12-31   CVX  72.900002  74.629997  72.900002  73.970001  44.129272   \n",
              "8 2008-12-31   DIS  22.570000  22.950001  22.520000  22.690001  19.538343   \n",
              "9 2008-12-31    GS  82.239998  86.150002  81.120003  84.389999  69.632217   \n",
              "\n",
              "        volume  day  macd   boll_ub   boll_lb  rsi_30     cci_30  dx_30  \\\n",
              "0  607541200.0  2.0   0.0  3.417383  2.871901   100.0  66.666667  100.0   \n",
              "1    6287200.0  2.0   0.0  3.417383  2.871901   100.0  66.666667  100.0   \n",
              "2    9625600.0  2.0   0.0  3.417383  2.871901   100.0  66.666667  100.0   \n",
              "3    5443100.0  2.0   0.0  3.417383  2.871901   100.0  66.666667  100.0   \n",
              "4    6277400.0  2.0   0.0  3.417383  2.871901   100.0  66.666667  100.0   \n",
              "5    5367600.0  2.0   0.0  3.417383  2.871901   100.0  66.666667  100.0   \n",
              "6   37513700.0  2.0   0.0  3.417383  2.871901   100.0  66.666667  100.0   \n",
              "7    9964300.0  2.0   0.0  3.417383  2.871901   100.0  66.666667  100.0   \n",
              "8    9012100.0  2.0   0.0  3.417383  2.871901   100.0  66.666667  100.0   \n",
              "9   14894100.0  2.0   0.0  3.417383  2.871901   100.0  66.666667  100.0   \n",
              "\n",
              "   close_30_sma  close_60_sma   vix  turbulence  \n",
              "0      3.048214      3.048214  40.0         0.0  \n",
              "1     57.750000     57.750000  40.0         0.0  \n",
              "2     18.549999     18.549999  40.0         0.0  \n",
              "3     42.669998     42.669998  40.0         0.0  \n",
              "4     44.669998     44.669998  40.0         0.0  \n",
              "5      8.002500      8.002500  40.0         0.0  \n",
              "6     16.299999     16.299999  40.0         0.0  \n",
              "7     73.970001     73.970001  40.0         0.0  \n",
              "8     22.690001     22.690001  40.0         0.0  \n",
              "9     84.389999     84.389999  40.0         0.0  "
            ]
          },
          "execution_count": 8,
          "metadata": {},
          "output_type": "execute_result"
        }
      ],
      "source": [
        "if data is None:\n",
        "    fe = FeatureEngineer(\n",
        "        use_technical_indicator=True,\n",
        "        tech_indicator_list = config.TECHNICAL_INDICATORS_LIST,\n",
        "        use_vix=True,\n",
        "        use_turbulence=True,\n",
        "        user_defined_feature = False)\n",
        "\n",
        "    processed = fe.preprocess_data(data_df)\n",
        "    list_ticker = processed[\"tic\"].unique().tolist()\n",
        "    list_date = list(pd.date_range(processed['date'].min(),processed['date'].max()).astype(str))\n",
        "    combination = list(itertools.product(list_date,list_ticker))\n",
        "\n",
        "    processed_full = pd.DataFrame(combination,columns=[\"date\",\"tic\"]).merge(processed,on=[\"date\",\"tic\"],how=\"left\")\n",
        "    processed_full = processed_full[processed_full['date'].isin(processed['date'])]\n",
        "    processed_full = processed_full.sort_values(['date','tic'])\n",
        "\n",
        "    processed_full = processed_full.fillna(0)\n",
        "    processed_full.to_csv(data_path, index=False)\n",
        "\n",
        "else:\n",
        "    processed_full = data\n",
        "    \n",
        "processed_full['date'] = pd.to_datetime(processed_full['date'])\n",
        "processed_full.head(10)\n"
      ]
    },
    {
      "cell_type": "markdown",
      "metadata": {
        "id": "h33Rkdfr6BA7"
      },
      "source": [
        "   <a id='4'></a>\n",
        "   # Part 5. Design Environment\n",
        "   Considering the stochastic and interactive nature of the automated stock trading tasks, a financial task is modeled as a **Markov Decision Process (MDP)** problem. The training process involves observing stock price change, taking an action and reward's calculation to have the agent adjusting its strategy accordingly. By interacting with the environment, the trading agent will derive a trading strategy with the maximized rewards as time proceeds.\n",
        "\n",
        "   Our trading environments, based on OpenAI Gym framework, simulate live stock markets with real market data according to the principle of time-driven simulation.\n",
        "\n",
        "   The action space describes the allowed actions that the agent interacts with the environment. Normally, action a includes three actions: {-1, 0, 1}, where -1, 0, 1 represent selling, holding, and buying one share. Also, an action can be carried upon multiple shares. We use an action space {-k,…,-1, 0, 1, …, k}, where k denotes the number of shares to buy and -k denotes the number of shares to sell. For example, \"Buy 10 shares of AAPL\" or \"Sell 10 shares of AAPL\" are 10 or -10, respectively. The continuous action space needs to be normalized to [-1, 1], since the policy is defined on a Gaussian distribution, which needs to be normalized and symmetric."
      ]
    },
    {
      "cell_type": "code",
      "execution_count": 9,
      "metadata": {
        "colab": {
          "base_uri": "https://localhost:8080/"
        },
        "id": "aVGwgo_56BA8",
        "outputId": "61868ac9-518c-44f2-e88c-c5b4915f4346"
      },
      "outputs": [
        {
          "name": "stdout",
          "output_type": "stream",
          "text": [
            "83897\n",
            "9773\n"
          ]
        }
      ],
      "source": [
        "train = data_split(processed_full, '2009-01-01','2020-07-01')\n",
        "trade = data_split(processed_full, '2020-07-01','2021-10-31')\n",
        "print(len(train))\n",
        "print(len(trade))\n"
      ]
    },
    {
      "cell_type": "code",
      "execution_count": 10,
      "metadata": {
        "colab": {
          "base_uri": "https://localhost:8080/",
          "height": 270
        },
        "id": "V6dIGp0O6BA9",
        "outputId": "3d5e9644-aa4b-4624-aa69-9ad7a5bcef6e"
      },
      "outputs": [
        {
          "data": {
            "text/html": [
              "<div>\n",
              "<style scoped>\n",
              "    .dataframe tbody tr th:only-of-type {\n",
              "        vertical-align: middle;\n",
              "    }\n",
              "\n",
              "    .dataframe tbody tr th {\n",
              "        vertical-align: top;\n",
              "    }\n",
              "\n",
              "    .dataframe thead th {\n",
              "        text-align: right;\n",
              "    }\n",
              "</style>\n",
              "<table border=\"1\" class=\"dataframe\">\n",
              "  <thead>\n",
              "    <tr style=\"text-align: right;\">\n",
              "      <th></th>\n",
              "      <th>date</th>\n",
              "      <th>tic</th>\n",
              "      <th>open</th>\n",
              "      <th>high</th>\n",
              "      <th>low</th>\n",
              "      <th>close</th>\n",
              "      <th>adjcp</th>\n",
              "      <th>volume</th>\n",
              "      <th>day</th>\n",
              "      <th>macd</th>\n",
              "      <th>boll_ub</th>\n",
              "      <th>boll_lb</th>\n",
              "      <th>rsi_30</th>\n",
              "      <th>cci_30</th>\n",
              "      <th>dx_30</th>\n",
              "      <th>close_30_sma</th>\n",
              "      <th>close_60_sma</th>\n",
              "      <th>vix</th>\n",
              "      <th>turbulence</th>\n",
              "    </tr>\n",
              "  </thead>\n",
              "  <tbody>\n",
              "    <tr>\n",
              "      <th>2892</th>\n",
              "      <td>2020-06-30</td>\n",
              "      <td>UNH</td>\n",
              "      <td>288.570007</td>\n",
              "      <td>296.450012</td>\n",
              "      <td>287.660004</td>\n",
              "      <td>294.950012</td>\n",
              "      <td>288.628387</td>\n",
              "      <td>2932900.0</td>\n",
              "      <td>1.0</td>\n",
              "      <td>-0.372631</td>\n",
              "      <td>312.687984</td>\n",
              "      <td>278.358021</td>\n",
              "      <td>52.084626</td>\n",
              "      <td>-28.367095</td>\n",
              "      <td>1.846804</td>\n",
              "      <td>296.135668</td>\n",
              "      <td>289.078333</td>\n",
              "      <td>30.43</td>\n",
              "      <td>12.923923</td>\n",
              "    </tr>\n",
              "    <tr>\n",
              "      <th>2892</th>\n",
              "      <td>2020-06-30</td>\n",
              "      <td>V</td>\n",
              "      <td>191.490005</td>\n",
              "      <td>193.750000</td>\n",
              "      <td>190.160004</td>\n",
              "      <td>193.169998</td>\n",
              "      <td>191.412445</td>\n",
              "      <td>9040100.0</td>\n",
              "      <td>1.0</td>\n",
              "      <td>1.041698</td>\n",
              "      <td>201.285492</td>\n",
              "      <td>187.401509</td>\n",
              "      <td>52.961025</td>\n",
              "      <td>-51.428315</td>\n",
              "      <td>2.013358</td>\n",
              "      <td>193.927334</td>\n",
              "      <td>184.120167</td>\n",
              "      <td>30.43</td>\n",
              "      <td>12.923923</td>\n",
              "    </tr>\n",
              "    <tr>\n",
              "      <th>2892</th>\n",
              "      <td>2020-06-30</td>\n",
              "      <td>VZ</td>\n",
              "      <td>54.919998</td>\n",
              "      <td>55.290001</td>\n",
              "      <td>54.360001</td>\n",
              "      <td>55.130001</td>\n",
              "      <td>50.990158</td>\n",
              "      <td>17414800.0</td>\n",
              "      <td>1.0</td>\n",
              "      <td>-0.485633</td>\n",
              "      <td>59.005858</td>\n",
              "      <td>53.327142</td>\n",
              "      <td>47.865150</td>\n",
              "      <td>-50.671335</td>\n",
              "      <td>8.508886</td>\n",
              "      <td>55.825333</td>\n",
              "      <td>56.351000</td>\n",
              "      <td>30.43</td>\n",
              "      <td>12.923923</td>\n",
              "    </tr>\n",
              "    <tr>\n",
              "      <th>2892</th>\n",
              "      <td>2020-06-30</td>\n",
              "      <td>WBA</td>\n",
              "      <td>42.119999</td>\n",
              "      <td>42.580002</td>\n",
              "      <td>41.759998</td>\n",
              "      <td>42.389999</td>\n",
              "      <td>39.892540</td>\n",
              "      <td>4782100.0</td>\n",
              "      <td>1.0</td>\n",
              "      <td>-0.135283</td>\n",
              "      <td>46.270640</td>\n",
              "      <td>39.622361</td>\n",
              "      <td>48.504217</td>\n",
              "      <td>-14.266714</td>\n",
              "      <td>1.500723</td>\n",
              "      <td>42.498000</td>\n",
              "      <td>42.519167</td>\n",
              "      <td>30.43</td>\n",
              "      <td>12.923923</td>\n",
              "    </tr>\n",
              "    <tr>\n",
              "      <th>2892</th>\n",
              "      <td>2020-06-30</td>\n",
              "      <td>WMT</td>\n",
              "      <td>119.220001</td>\n",
              "      <td>120.129997</td>\n",
              "      <td>118.540001</td>\n",
              "      <td>119.779999</td>\n",
              "      <td>116.994614</td>\n",
              "      <td>6836400.0</td>\n",
              "      <td>1.0</td>\n",
              "      <td>-0.944696</td>\n",
              "      <td>123.237586</td>\n",
              "      <td>117.086413</td>\n",
              "      <td>47.908402</td>\n",
              "      <td>-69.838490</td>\n",
              "      <td>3.847271</td>\n",
              "      <td>121.498333</td>\n",
              "      <td>123.698167</td>\n",
              "      <td>30.43</td>\n",
              "      <td>12.923923</td>\n",
              "    </tr>\n",
              "  </tbody>\n",
              "</table>\n",
              "</div>"
            ],
            "text/plain": [
              "           date  tic        open        high         low       close  \\\n",
              "2892 2020-06-30  UNH  288.570007  296.450012  287.660004  294.950012   \n",
              "2892 2020-06-30    V  191.490005  193.750000  190.160004  193.169998   \n",
              "2892 2020-06-30   VZ   54.919998   55.290001   54.360001   55.130001   \n",
              "2892 2020-06-30  WBA   42.119999   42.580002   41.759998   42.389999   \n",
              "2892 2020-06-30  WMT  119.220001  120.129997  118.540001  119.779999   \n",
              "\n",
              "           adjcp      volume  day      macd     boll_ub     boll_lb  \\\n",
              "2892  288.628387   2932900.0  1.0 -0.372631  312.687984  278.358021   \n",
              "2892  191.412445   9040100.0  1.0  1.041698  201.285492  187.401509   \n",
              "2892   50.990158  17414800.0  1.0 -0.485633   59.005858   53.327142   \n",
              "2892   39.892540   4782100.0  1.0 -0.135283   46.270640   39.622361   \n",
              "2892  116.994614   6836400.0  1.0 -0.944696  123.237586  117.086413   \n",
              "\n",
              "         rsi_30     cci_30     dx_30  close_30_sma  close_60_sma    vix  \\\n",
              "2892  52.084626 -28.367095  1.846804    296.135668    289.078333  30.43   \n",
              "2892  52.961025 -51.428315  2.013358    193.927334    184.120167  30.43   \n",
              "2892  47.865150 -50.671335  8.508886     55.825333     56.351000  30.43   \n",
              "2892  48.504217 -14.266714  1.500723     42.498000     42.519167  30.43   \n",
              "2892  47.908402 -69.838490  3.847271    121.498333    123.698167  30.43   \n",
              "\n",
              "      turbulence  \n",
              "2892   12.923923  \n",
              "2892   12.923923  \n",
              "2892   12.923923  \n",
              "2892   12.923923  \n",
              "2892   12.923923  "
            ]
          },
          "execution_count": 10,
          "metadata": {},
          "output_type": "execute_result"
        }
      ],
      "source": [
        "train.tail()\n"
      ]
    },
    {
      "cell_type": "code",
      "execution_count": 11,
      "metadata": {
        "colab": {
          "base_uri": "https://localhost:8080/",
          "height": 270
        },
        "id": "-tRcdzrd6BBA",
        "outputId": "5b40adde-df84-44cd-a506-d29132747e12"
      },
      "outputs": [
        {
          "data": {
            "text/html": [
              "<div>\n",
              "<style scoped>\n",
              "    .dataframe tbody tr th:only-of-type {\n",
              "        vertical-align: middle;\n",
              "    }\n",
              "\n",
              "    .dataframe tbody tr th {\n",
              "        vertical-align: top;\n",
              "    }\n",
              "\n",
              "    .dataframe thead th {\n",
              "        text-align: right;\n",
              "    }\n",
              "</style>\n",
              "<table border=\"1\" class=\"dataframe\">\n",
              "  <thead>\n",
              "    <tr style=\"text-align: right;\">\n",
              "      <th></th>\n",
              "      <th>date</th>\n",
              "      <th>tic</th>\n",
              "      <th>open</th>\n",
              "      <th>high</th>\n",
              "      <th>low</th>\n",
              "      <th>close</th>\n",
              "      <th>adjcp</th>\n",
              "      <th>volume</th>\n",
              "      <th>day</th>\n",
              "      <th>macd</th>\n",
              "      <th>boll_ub</th>\n",
              "      <th>boll_lb</th>\n",
              "      <th>rsi_30</th>\n",
              "      <th>cci_30</th>\n",
              "      <th>dx_30</th>\n",
              "      <th>close_30_sma</th>\n",
              "      <th>close_60_sma</th>\n",
              "      <th>vix</th>\n",
              "      <th>turbulence</th>\n",
              "    </tr>\n",
              "  </thead>\n",
              "  <tbody>\n",
              "    <tr>\n",
              "      <th>0</th>\n",
              "      <td>2020-07-01</td>\n",
              "      <td>AAPL</td>\n",
              "      <td>91.279999</td>\n",
              "      <td>91.839996</td>\n",
              "      <td>90.977501</td>\n",
              "      <td>91.027496</td>\n",
              "      <td>90.151413</td>\n",
              "      <td>110737200.0</td>\n",
              "      <td>2.0</td>\n",
              "      <td>3.042301</td>\n",
              "      <td>93.857116</td>\n",
              "      <td>81.181381</td>\n",
              "      <td>62.736924</td>\n",
              "      <td>107.472310</td>\n",
              "      <td>29.730532</td>\n",
              "      <td>84.982083</td>\n",
              "      <td>78.758125</td>\n",
              "      <td>28.620001</td>\n",
              "      <td>52.952935</td>\n",
              "    </tr>\n",
              "    <tr>\n",
              "      <th>0</th>\n",
              "      <td>2020-07-01</td>\n",
              "      <td>AMGN</td>\n",
              "      <td>235.520004</td>\n",
              "      <td>256.230011</td>\n",
              "      <td>232.580002</td>\n",
              "      <td>255.119995</td>\n",
              "      <td>244.159149</td>\n",
              "      <td>6575800.0</td>\n",
              "      <td>2.0</td>\n",
              "      <td>3.746028</td>\n",
              "      <td>246.880078</td>\n",
              "      <td>212.689919</td>\n",
              "      <td>61.063530</td>\n",
              "      <td>272.795104</td>\n",
              "      <td>46.806139</td>\n",
              "      <td>228.248332</td>\n",
              "      <td>230.089333</td>\n",
              "      <td>28.620001</td>\n",
              "      <td>52.952935</td>\n",
              "    </tr>\n",
              "    <tr>\n",
              "      <th>0</th>\n",
              "      <td>2020-07-01</td>\n",
              "      <td>AXP</td>\n",
              "      <td>95.250000</td>\n",
              "      <td>96.959999</td>\n",
              "      <td>93.639999</td>\n",
              "      <td>94.050003</td>\n",
              "      <td>92.347771</td>\n",
              "      <td>3301000.0</td>\n",
              "      <td>2.0</td>\n",
              "      <td>-0.437417</td>\n",
              "      <td>113.325929</td>\n",
              "      <td>89.959072</td>\n",
              "      <td>48.232361</td>\n",
              "      <td>-68.223064</td>\n",
              "      <td>3.142448</td>\n",
              "      <td>99.754667</td>\n",
              "      <td>93.042667</td>\n",
              "      <td>28.620001</td>\n",
              "      <td>52.952935</td>\n",
              "    </tr>\n",
              "    <tr>\n",
              "      <th>0</th>\n",
              "      <td>2020-07-01</td>\n",
              "      <td>BA</td>\n",
              "      <td>185.880005</td>\n",
              "      <td>190.610001</td>\n",
              "      <td>180.039993</td>\n",
              "      <td>180.320007</td>\n",
              "      <td>180.320007</td>\n",
              "      <td>49036700.0</td>\n",
              "      <td>2.0</td>\n",
              "      <td>5.442064</td>\n",
              "      <td>220.721139</td>\n",
              "      <td>160.932863</td>\n",
              "      <td>50.908570</td>\n",
              "      <td>24.220608</td>\n",
              "      <td>15.932920</td>\n",
              "      <td>176.472335</td>\n",
              "      <td>155.614168</td>\n",
              "      <td>28.620001</td>\n",
              "      <td>52.952935</td>\n",
              "    </tr>\n",
              "    <tr>\n",
              "      <th>0</th>\n",
              "      <td>2020-07-01</td>\n",
              "      <td>CAT</td>\n",
              "      <td>129.380005</td>\n",
              "      <td>129.399994</td>\n",
              "      <td>125.879997</td>\n",
              "      <td>126.059998</td>\n",
              "      <td>121.818481</td>\n",
              "      <td>2807800.0</td>\n",
              "      <td>2.0</td>\n",
              "      <td>1.312021</td>\n",
              "      <td>136.479678</td>\n",
              "      <td>118.434322</td>\n",
              "      <td>52.739826</td>\n",
              "      <td>35.366374</td>\n",
              "      <td>14.457404</td>\n",
              "      <td>124.765666</td>\n",
              "      <td>118.866833</td>\n",
              "      <td>28.620001</td>\n",
              "      <td>52.952935</td>\n",
              "    </tr>\n",
              "  </tbody>\n",
              "</table>\n",
              "</div>"
            ],
            "text/plain": [
              "        date   tic        open        high         low       close  \\\n",
              "0 2020-07-01  AAPL   91.279999   91.839996   90.977501   91.027496   \n",
              "0 2020-07-01  AMGN  235.520004  256.230011  232.580002  255.119995   \n",
              "0 2020-07-01   AXP   95.250000   96.959999   93.639999   94.050003   \n",
              "0 2020-07-01    BA  185.880005  190.610001  180.039993  180.320007   \n",
              "0 2020-07-01   CAT  129.380005  129.399994  125.879997  126.059998   \n",
              "\n",
              "        adjcp       volume  day      macd     boll_ub     boll_lb     rsi_30  \\\n",
              "0   90.151413  110737200.0  2.0  3.042301   93.857116   81.181381  62.736924   \n",
              "0  244.159149    6575800.0  2.0  3.746028  246.880078  212.689919  61.063530   \n",
              "0   92.347771    3301000.0  2.0 -0.437417  113.325929   89.959072  48.232361   \n",
              "0  180.320007   49036700.0  2.0  5.442064  220.721139  160.932863  50.908570   \n",
              "0  121.818481    2807800.0  2.0  1.312021  136.479678  118.434322  52.739826   \n",
              "\n",
              "       cci_30      dx_30  close_30_sma  close_60_sma        vix  turbulence  \n",
              "0  107.472310  29.730532     84.982083     78.758125  28.620001   52.952935  \n",
              "0  272.795104  46.806139    228.248332    230.089333  28.620001   52.952935  \n",
              "0  -68.223064   3.142448     99.754667     93.042667  28.620001   52.952935  \n",
              "0   24.220608  15.932920    176.472335    155.614168  28.620001   52.952935  \n",
              "0   35.366374  14.457404    124.765666    118.866833  28.620001   52.952935  "
            ]
          },
          "execution_count": 11,
          "metadata": {},
          "output_type": "execute_result"
        }
      ],
      "source": [
        "trade.head()\n"
      ]
    },
    {
      "cell_type": "code",
      "execution_count": 12,
      "metadata": {
        "colab": {
          "base_uri": "https://localhost:8080/"
        },
        "id": "-xXWk__E6BBC",
        "outputId": "6b6d8be3-15b3-498a-cf4e-ce145a1a7af8"
      },
      "outputs": [
        {
          "data": {
            "text/plain": [
              "['macd',\n",
              " 'boll_ub',\n",
              " 'boll_lb',\n",
              " 'rsi_30',\n",
              " 'cci_30',\n",
              " 'dx_30',\n",
              " 'close_30_sma',\n",
              " 'close_60_sma']"
            ]
          },
          "execution_count": 12,
          "metadata": {},
          "output_type": "execute_result"
        }
      ],
      "source": [
        "config.TECHNICAL_INDICATORS_LIST\n"
      ]
    },
    {
      "cell_type": "code",
      "execution_count": 13,
      "metadata": {
        "colab": {
          "base_uri": "https://localhost:8080/"
        },
        "id": "n5qxNJTz6BBF",
        "outputId": "c6707711-8d25-4f70-e126-c7b27ed972df"
      },
      "outputs": [
        {
          "name": "stdout",
          "output_type": "stream",
          "text": [
            "Stock Dimension: 29, State Space: 291\n"
          ]
        }
      ],
      "source": [
        "stock_dimension = len(train.tic.unique())\n",
        "state_space = 1 + 2*stock_dimension + len(config.TECHNICAL_INDICATORS_LIST)*stock_dimension\n",
        "print(f\"Stock Dimension: {stock_dimension}, State Space: {state_space}\")\n"
      ]
    },
    {
      "cell_type": "code",
      "execution_count": 14,
      "metadata": {
        "id": "o7adeZWK6BBH"
      },
      "outputs": [],
      "source": [
        "def df_to_array(df, tech_indicator_list=None, if_vix=True):\n",
        "    if tech_indicator_list is None:\n",
        "        tech_indicator_list = config.TECHNICAL_INDICATORS_LIST\n",
        "    unique_ticker = df.tic.unique()\n",
        "    if_first_time = True\n",
        "    for tic in unique_ticker:\n",
        "        if if_first_time:\n",
        "            price_array = df[df.tic == tic][[\"adjcp\"]].values\n",
        "            # price_ary = df[df.tic==tic]['close'].values\n",
        "            tech_array = df[df.tic == tic][tech_indicator_list].values\n",
        "            if if_vix:\n",
        "                turbulence_array = df[df.tic == tic][\"vix\"].values\n",
        "            else:\n",
        "                turbulence_array = df[df.tic == tic][\"turbulence\"].values\n",
        "            if_first_time = False\n",
        "        else:\n",
        "            price_array = np.hstack(\n",
        "                [price_array, df[df.tic == tic][[\"adjcp\"]].values]\n",
        "            )\n",
        "            tech_array = np.hstack(\n",
        "                [tech_array, df[df.tic == tic][tech_indicator_list].values]\n",
        "            )\n",
        "    assert price_array.shape[0] == tech_array.shape[0]\n",
        "    assert tech_array.shape[0] == turbulence_array.shape[0]\n",
        "    print(\"Successfully transformed into array\")\n",
        "\n",
        "    return dict(\n",
        "        price_array=price_array,\n",
        "        tech_array=tech_array,\n",
        "        turbulence_array=turbulence_array\n",
        "    )\n",
        "\n"
      ]
    },
    {
      "cell_type": "markdown",
      "metadata": {
        "id": "ls0ckmQc6BBJ"
      },
      "source": [
        "   ## Environment for Training\n",
        "\n"
      ]
    },
    {
      "cell_type": "code",
      "execution_count": 15,
      "metadata": {
        "colab": {
          "base_uri": "https://localhost:8080/"
        },
        "id": "WpnAQSvZ6BBK",
        "outputId": "157ef967-6e43-4f8d-a912-3d561e72da13"
      },
      "outputs": [
        {
          "name": "stdout",
          "output_type": "stream",
          "text": [
            "Successfully transformed into array\n"
          ]
        }
      ],
      "source": [
        "e_train_cfg = dict(\n",
        "    if_train = True,\n",
        "    **df_to_array(train)\n",
        ")\n",
        "e_train_gym = StockTradingEnv(e_train_cfg, min_stock_rate=0.01)"
      ]
    },
    {
      "cell_type": "markdown",
      "metadata": {
        "id": "LrCDIpB16BBN"
      },
      "source": [
        "   ## Trading\n",
        "   Assume that we have $1,000,000 initial capital at 2020-07-01. We use the DDPG model to trade Dow jones 30 stocks."
      ]
    },
    {
      "cell_type": "markdown",
      "metadata": {
        "id": "YJXIlmGn6BBO"
      },
      "source": [
        "   ### Set turbulence threshold\n",
        "   Set the turbulence threshold to be greater than the maximum of insample turbulence data, if current turbulence index is greater than the threshold, then we assume that the current market is volatile"
      ]
    },
    {
      "cell_type": "code",
      "execution_count": 16,
      "metadata": {
        "id": "urgEqbNv6BBP"
      },
      "outputs": [],
      "source": [
        "data_risk_indicator = processed_full[(processed_full.date<'2020-07-01') & (processed_full.date>='2009-01-01')]\n",
        "insample_risk_indicator = data_risk_indicator.drop_duplicates(subset=['date'])\n"
      ]
    },
    {
      "cell_type": "code",
      "execution_count": 17,
      "metadata": {
        "colab": {
          "base_uri": "https://localhost:8080/"
        },
        "id": "o9Xro4bo6BBR",
        "outputId": "79460d38-9b24-4014-ac26-b36c42be7660"
      },
      "outputs": [
        {
          "data": {
            "text/plain": [
              "count    2893.000000\n",
              "mean       18.824245\n",
              "std         8.489311\n",
              "min         9.140000\n",
              "25%        13.330000\n",
              "50%        16.139999\n",
              "75%        21.309999\n",
              "max        82.690002\n",
              "Name: vix, dtype: float64"
            ]
          },
          "execution_count": 17,
          "metadata": {},
          "output_type": "execute_result"
        }
      ],
      "source": [
        "insample_risk_indicator.vix.describe()\n"
      ]
    },
    {
      "cell_type": "code",
      "execution_count": 18,
      "metadata": {
        "colab": {
          "base_uri": "https://localhost:8080/"
        },
        "id": "aiVbehES6BBT",
        "outputId": "5ed036e4-2af8-41c5-891d-510708c7b592"
      },
      "outputs": [
        {
          "data": {
            "text/plain": [
              "57.40400183105453"
            ]
          },
          "execution_count": 18,
          "metadata": {},
          "output_type": "execute_result"
        }
      ],
      "source": [
        "insample_risk_indicator.vix.quantile(0.996)\n"
      ]
    },
    {
      "cell_type": "code",
      "execution_count": 19,
      "metadata": {
        "colab": {
          "base_uri": "https://localhost:8080/"
        },
        "id": "Ed-hAev26BBX",
        "outputId": "341d34e4-b546-4ce2-dbd2-36ad2827203d"
      },
      "outputs": [
        {
          "data": {
            "text/plain": [
              "count    2893.000000\n",
              "mean       34.543753\n",
              "std        43.460806\n",
              "min         0.000000\n",
              "25%        15.192505\n",
              "50%        24.296342\n",
              "75%        39.272185\n",
              "max       650.976029\n",
              "Name: turbulence, dtype: float64"
            ]
          },
          "execution_count": 19,
          "metadata": {},
          "output_type": "execute_result"
        }
      ],
      "source": [
        "insample_risk_indicator.turbulence.describe()\n"
      ]
    },
    {
      "cell_type": "code",
      "execution_count": 20,
      "metadata": {
        "colab": {
          "base_uri": "https://localhost:8080/"
        },
        "id": "7kGIAd8r6BBZ",
        "outputId": "3be2509e-0bed-4444-a237-e9048acef22b"
      },
      "outputs": [
        {
          "data": {
            "text/plain": [
              "278.510852681742"
            ]
          },
          "execution_count": 20,
          "metadata": {},
          "output_type": "execute_result"
        }
      ],
      "source": [
        "insample_risk_indicator.turbulence.quantile(0.996)\n"
      ]
    },
    {
      "cell_type": "code",
      "execution_count": 21,
      "metadata": {
        "colab": {
          "base_uri": "https://localhost:8080/"
        },
        "id": "_927NJwK6BBj",
        "outputId": "86d7b0a0-8206-484d-ce03-bf518063b0fa"
      },
      "outputs": [
        {
          "name": "stdout",
          "output_type": "stream",
          "text": [
            "Successfully transformed into array\n"
          ]
        }
      ],
      "source": [
        "e_trade_cfg = dict(\n",
        "    if_train = False,\n",
        "    **df_to_array(trade)\n",
        ")\n",
        "e_trade_gym = StockTradingEnv(e_trade_cfg, min_stock_rate=0.01)\n"
      ]
    },
    {
      "cell_type": "markdown",
      "metadata": {
        "id": "xnSiNwx96BBm"
      },
      "source": [
        "  # Part 6: Implement DRL Algorithms"
      ]
    },
    {
      "cell_type": "markdown",
      "metadata": {
        "id": "zwijwT1o6BBn"
      },
      "source": [
        "  ## Training"
      ]
    },
    {
      "cell_type": "code",
      "execution_count": 22,
      "metadata": {
        "colab": {
          "base_uri": "https://localhost:8080/"
        },
        "id": "Da5A0ssF6BBo",
        "outputId": "96cd180d-165d-47e0-ac1a-8a88e20f9813"
      },
      "outputs": [
        {
          "name": "stderr",
          "output_type": "stream",
          "text": [
            "[DEBUG:19803 cmd:869 2022-01-16 23:53:41,967] Popen(['git', 'version'], cwd=/mnt/e/School/KTH/Y2P2/ID2223-Scalable-ML/labs/project, universal_newlines=False, shell=None, istream=None)\n",
            "[DEBUG:19803 cmd:869 2022-01-16 23:53:41,998] Popen(['git', 'version'], cwd=/mnt/e/School/KTH/Y2P2/ID2223-Scalable-ML/labs/project, universal_newlines=False, shell=None, istream=None)\n",
            "[DEBUG:19803 cmd:869 2022-01-16 23:53:42,042] Popen(['git', 'cat-file', '--batch-check'], cwd=/mnt/e/School/KTH/Y2P2/ID2223-Scalable-ML/labs, universal_newlines=False, shell=None, istream=<valid stream>)\n",
            "[DEBUG:19803 cmd:869 2022-01-16 23:53:42,102] Popen(['git', 'diff', '--cached', '--abbrev=40', '--full-index', '--raw'], cwd=/mnt/e/School/KTH/Y2P2/ID2223-Scalable-ML/labs, universal_newlines=False, shell=None, istream=None)\n",
            "[DEBUG:19803 cmd:869 2022-01-16 23:53:42,261] Popen(['git', 'diff', '--abbrev=40', '--full-index', '--raw'], cwd=/mnt/e/School/KTH/Y2P2/ID2223-Scalable-ML/labs, universal_newlines=False, shell=None, istream=None)\n",
            "Creating log directory: impala_logs/torchbeast-20220116-235341\n",
            "[INFO:19803 file_writer:104 2022-01-16 23:53:45,018] Creating log directory: impala_logs/torchbeast-20220116-235341\n",
            "Symlinked log directory: impala_logs/latest\n",
            "[INFO:19803 file_writer:117 2022-01-16 23:53:45,038] Symlinked log directory: impala_logs/latest\n",
            "Saving arguments to impala_logs/torchbeast-20220116-235341/meta.json\n",
            "[INFO:19803 file_writer:129 2022-01-16 23:53:45,041] Saving arguments to impala_logs/torchbeast-20220116-235341/meta.json\n",
            "Saving messages to impala_logs/torchbeast-20220116-235341/out.log\n",
            "[INFO:19803 file_writer:137 2022-01-16 23:53:45,076] Saving messages to impala_logs/torchbeast-20220116-235341/out.log\n",
            "Saving logs data to impala_logs/torchbeast-20220116-235341/logs.csv\n",
            "[INFO:19803 file_writer:147 2022-01-16 23:53:45,100] Saving logs data to impala_logs/torchbeast-20220116-235341/logs.csv\n",
            "Saving logs' fields to impala_logs/torchbeast-20220116-235341/fields.csv\n",
            "[INFO:19803 file_writer:148 2022-01-16 23:53:45,105] Saving logs' fields to impala_logs/torchbeast-20220116-235341/fields.csv\n",
            "[INFO:19803 impala:345 2022-01-16 23:53:45,140] Not using CUDA.\n",
            "[INFO:19995 impala:137 2022-01-16 23:53:45,268] Actor 0 started.\n",
            "[INFO:19996 impala:137 2022-01-16 23:53:45,276] Actor 1 started.\n",
            "[INFO:20001 impala:137 2022-01-16 23:53:45,289] Actor 2 started.\n",
            "[INFO:20002 impala:137 2022-01-16 23:53:45,305] Actor 3 started.\n",
            "[INFO:19803 impala:406 2022-01-16 23:53:45,377] # Step\ttotal_loss\tmean_episode_return\tpg_loss\tbaseline_loss\tentropy_loss\n",
            "Updated log fields: ['_tick', '_time', 'step', 'total_loss', 'mean_episode_return', 'pg_loss', 'baseline_loss', 'entropy_loss']\n",
            "[INFO:19803 file_writer:189 2022-01-16 23:53:50,032] Updated log fields: ['_tick', '_time', 'step', 'total_loss', 'mean_episode_return', 'pg_loss', 'baseline_loss', 'entropy_loss']\n",
            "[INFO:19803 impala:445 2022-01-16 23:54:29,462] Steps 12160 @ 275.9 SPS. Loss -14323556352.000000. Return per episode: 4.1. Stats:\n",
            "{'baseline_loss': 2788251136.0,\n",
            " 'entropy_loss': -1.4979848861694336,\n",
            " 'episode_returns': (4.072144, 4.072144, 4.072144, 4.072144),\n",
            " 'mean_episode_return': 4.072144031524658,\n",
            " 'pg_loss': -17111806976.0,\n",
            " 'total_loss': -14323556352.0}\n",
            "[INFO:19803 impala:445 2022-01-16 23:55:13,337] Steps 23680 @ 262.6 SPS. Loss 83.593941. Return per episode: 4.2. Stats:\n",
            "{'baseline_loss': 8.402422904968262,\n",
            " 'entropy_loss': -14.188549995422363,\n",
            " 'episode_returns': (4.24904, 4.24904, 4.24904, 4.24904),\n",
            " 'mean_episode_return': 4.249040126800537,\n",
            " 'pg_loss': 89.38007354736328,\n",
            " 'total_loss': 83.59394073486328}\n",
            "[INFO:19803 impala:445 2022-01-16 23:55:54,190] Steps 35200 @ 282.0 SPS. Loss -60.504608. Return per episode: 4.9. Stats:\n",
            "{'baseline_loss': 3.8886125087738037,\n",
            " 'entropy_loss': -28.72188949584961,\n",
            " 'episode_returns': (4.9430685, 4.9430685, 4.9430685, 4.9430685),\n",
            " 'mean_episode_return': 4.943068504333496,\n",
            " 'pg_loss': -35.671329498291016,\n",
            " 'total_loss': -60.504608154296875}\n",
            "[INFO:19803 impala:445 2022-01-16 23:56:38,413] Steps 46720 @ 260.5 SPS. Loss -45.907616. Return per episode: 4.3. Stats:\n",
            "{'baseline_loss': 0.32727882266044617,\n",
            " 'entropy_loss': -41.14751434326172,\n",
            " 'episode_returns': (4.3041625, 4.3041625, 4.3041625, 4.3041625),\n",
            " 'mean_episode_return': 4.304162502288818,\n",
            " 'pg_loss': -5.087378978729248,\n",
            " 'total_loss': -45.907615661621094}\n",
            "[INFO:19803 impala:445 2022-01-16 23:57:18,811] Steps 58240 @ 285.2 SPS. Loss -144.243484. Return per episode: 4.9. Stats:\n",
            "{'baseline_loss': 3.079132556915283,\n",
            " 'entropy_loss': -50.10403823852539,\n",
            " 'episode_returns': (4.9336295, 4.9336295, 4.9336295, 4.9336295),\n",
            " 'mean_episode_return': 4.933629512786865,\n",
            " 'pg_loss': -97.21858215332031,\n",
            " 'total_loss': -144.2434844970703}\n"
          ]
        }
      ],
      "source": [
        "impala.set_env(e_train_gym)\n",
        "impala.train(FLAGS)\n"
      ]
    },
    {
      "cell_type": "markdown",
      "metadata": {
        "id": "Apxm0yxZ6BBq"
      },
      "source": [
        "   ### Trade\n",
        "\n",
        "   DRL model needs to update periodically in order to take full advantage of the data, ideally we need to retrain our model yearly, quarterly, or monthly. We also need to tune the parameters along the way, in this notebook I only use the in-sample data from 2009-01 to 2020-07 to tune the parameters once, so there is some alpha decay here as the length of trade date extends.\n",
        "\n",
        "   Numerous hyperparameters – e.g. the learning rate, the total number of samples to train on – influence the learning process and are usually determined by testing some variations."
      ]
    },
    {
      "cell_type": "code",
      "execution_count": null,
      "metadata": {
        "colab": {
          "base_uri": "https://localhost:8080/",
          "height": 907
        },
        "id": "C0arAgcw6BBs",
        "outputId": "f84f2f4b-706e-4dc3-daed-0240bc55ba4c"
      },
      "outputs": [
        {
          "name": "stdout",
          "output_type": "stream",
          "text": [
            "ActorNet(\n",
            "  (net_state): Sequential(\n",
            "    (0): Linear(in_features=322, out_features=512, bias=True)\n",
            "    (1): ReLU()\n",
            "    (2): Linear(in_features=512, out_features=512, bias=True)\n",
            "    (3): ReLU()\n",
            "  )\n",
            "  (core): LSTM(542, 542, num_layers=2)\n",
            "  (net_policy): Sequential(\n",
            "    (0): ReLU()\n",
            "    (1): Linear(in_features=542, out_features=512, bias=True)\n",
            "    (2): Hardswish()\n",
            "    (3): Linear(in_features=512, out_features=29, bias=True)\n",
            "  )\n",
            "  (net_action_logstd): Sequential(\n",
            "    (0): Hardswish()\n",
            "    (1): Linear(in_features=542, out_features=29, bias=True)\n",
            "  )\n",
            "  (baseline): Sequential(\n",
            "    (0): ReLU()\n",
            "    (1): Linear(in_features=542, out_features=32, bias=True)\n",
            "    (2): ReLU()\n",
            "    (3): Linear(in_features=32, out_features=1, bias=True)\n",
            "  )\n",
            ")\n"
          ]
        },
        {
          "ename": "FileNotFoundError",
          "evalue": "ignored",
          "output_type": "error",
          "traceback": [
            "\u001b[0;31m---------------------------------------------------------------------------\u001b[0m",
            "\u001b[0;31mFileNotFoundError\u001b[0m                         Traceback (most recent call last)",
            "\u001b[0;32m<ipython-input-24-e1a60a127017>\u001b[0m in \u001b[0;36m<module>\u001b[0;34m()\u001b[0m\n\u001b[1;32m      1\u001b[0m \u001b[0mimpala\u001b[0m\u001b[0;34m.\u001b[0m\u001b[0mset_env\u001b[0m\u001b[0;34m(\u001b[0m\u001b[0me_trade_gym\u001b[0m\u001b[0;34m)\u001b[0m\u001b[0;34m\u001b[0m\u001b[0;34m\u001b[0m\u001b[0m\n\u001b[0;32m----> 2\u001b[0;31m \u001b[0maccount_values\u001b[0m\u001b[0;34m,\u001b[0m \u001b[0mactions\u001b[0m \u001b[0;34m=\u001b[0m \u001b[0mimpala\u001b[0m\u001b[0;34m.\u001b[0m\u001b[0mtest\u001b[0m\u001b[0;34m(\u001b[0m\u001b[0mFLAGS\u001b[0m\u001b[0;34m)\u001b[0m\u001b[0;34m\u001b[0m\u001b[0;34m\u001b[0m\u001b[0m\n\u001b[0m\u001b[1;32m      3\u001b[0m df_account_value = pd.DataFrame(dict(date=trade.date[~trade.date.duplicated(keep='last')],\n\u001b[1;32m      4\u001b[0m                                      account_value=account_values))\n\u001b[1;32m      5\u001b[0m \u001b[0mdf_account_value\u001b[0m\u001b[0;34m\u001b[0m\u001b[0;34m\u001b[0m\u001b[0m\n",
            "\u001b[0;32m/content/impala.py\u001b[0m in \u001b[0;36mtest\u001b[0;34m(flags)\u001b[0m\n\u001b[1;32m    514\u001b[0m     \u001b[0mmodel\u001b[0m \u001b[0;34m=\u001b[0m \u001b[0mNet\u001b[0m\u001b[0;34m(\u001b[0m\u001b[0menv\u001b[0m\u001b[0;34m)\u001b[0m\u001b[0;34m\u001b[0m\u001b[0;34m\u001b[0m\u001b[0m\n\u001b[1;32m    515\u001b[0m     \u001b[0mmodel\u001b[0m\u001b[0;34m.\u001b[0m\u001b[0meval\u001b[0m\u001b[0;34m(\u001b[0m\u001b[0;34m)\u001b[0m\u001b[0;34m\u001b[0m\u001b[0;34m\u001b[0m\u001b[0m\n\u001b[0;32m--> 516\u001b[0;31m     \u001b[0mcheckpoint\u001b[0m \u001b[0;34m=\u001b[0m \u001b[0mtorch\u001b[0m\u001b[0;34m.\u001b[0m\u001b[0mload\u001b[0m\u001b[0;34m(\u001b[0m\u001b[0mcheckpointpath\u001b[0m\u001b[0;34m,\u001b[0m \u001b[0mmap_location\u001b[0m\u001b[0;34m=\u001b[0m\u001b[0;34m\"cpu\"\u001b[0m\u001b[0;34m)\u001b[0m\u001b[0;34m\u001b[0m\u001b[0;34m\u001b[0m\u001b[0m\n\u001b[0m\u001b[1;32m    517\u001b[0m     \u001b[0mmodel\u001b[0m\u001b[0;34m.\u001b[0m\u001b[0mload_state_dict\u001b[0m\u001b[0;34m(\u001b[0m\u001b[0mcheckpoint\u001b[0m\u001b[0;34m[\u001b[0m\u001b[0;34m\"model_state_dict\"\u001b[0m\u001b[0;34m]\u001b[0m\u001b[0;34m)\u001b[0m\u001b[0;34m\u001b[0m\u001b[0;34m\u001b[0m\u001b[0m\n\u001b[1;32m    518\u001b[0m \u001b[0;34m\u001b[0m\u001b[0m\n",
            "\u001b[0;32m/usr/local/lib/python3.7/dist-packages/torch/serialization.py\u001b[0m in \u001b[0;36mload\u001b[0;34m(f, map_location, pickle_module, **pickle_load_args)\u001b[0m\n\u001b[1;32m    592\u001b[0m         \u001b[0mpickle_load_args\u001b[0m\u001b[0;34m[\u001b[0m\u001b[0;34m'encoding'\u001b[0m\u001b[0;34m]\u001b[0m \u001b[0;34m=\u001b[0m \u001b[0;34m'utf-8'\u001b[0m\u001b[0;34m\u001b[0m\u001b[0;34m\u001b[0m\u001b[0m\n\u001b[1;32m    593\u001b[0m \u001b[0;34m\u001b[0m\u001b[0m\n\u001b[0;32m--> 594\u001b[0;31m     \u001b[0;32mwith\u001b[0m \u001b[0m_open_file_like\u001b[0m\u001b[0;34m(\u001b[0m\u001b[0mf\u001b[0m\u001b[0;34m,\u001b[0m \u001b[0;34m'rb'\u001b[0m\u001b[0;34m)\u001b[0m \u001b[0;32mas\u001b[0m \u001b[0mopened_file\u001b[0m\u001b[0;34m:\u001b[0m\u001b[0;34m\u001b[0m\u001b[0;34m\u001b[0m\u001b[0m\n\u001b[0m\u001b[1;32m    595\u001b[0m         \u001b[0;32mif\u001b[0m \u001b[0m_is_zipfile\u001b[0m\u001b[0;34m(\u001b[0m\u001b[0mopened_file\u001b[0m\u001b[0;34m)\u001b[0m\u001b[0;34m:\u001b[0m\u001b[0;34m\u001b[0m\u001b[0;34m\u001b[0m\u001b[0m\n\u001b[1;32m    596\u001b[0m             \u001b[0;31m# The zipfile reader is going to advance the current file position.\u001b[0m\u001b[0;34m\u001b[0m\u001b[0;34m\u001b[0m\u001b[0;34m\u001b[0m\u001b[0m\n",
            "\u001b[0;32m/usr/local/lib/python3.7/dist-packages/torch/serialization.py\u001b[0m in \u001b[0;36m_open_file_like\u001b[0;34m(name_or_buffer, mode)\u001b[0m\n\u001b[1;32m    228\u001b[0m \u001b[0;32mdef\u001b[0m \u001b[0m_open_file_like\u001b[0m\u001b[0;34m(\u001b[0m\u001b[0mname_or_buffer\u001b[0m\u001b[0;34m,\u001b[0m \u001b[0mmode\u001b[0m\u001b[0;34m)\u001b[0m\u001b[0;34m:\u001b[0m\u001b[0;34m\u001b[0m\u001b[0;34m\u001b[0m\u001b[0m\n\u001b[1;32m    229\u001b[0m     \u001b[0;32mif\u001b[0m \u001b[0m_is_path\u001b[0m\u001b[0;34m(\u001b[0m\u001b[0mname_or_buffer\u001b[0m\u001b[0;34m)\u001b[0m\u001b[0;34m:\u001b[0m\u001b[0;34m\u001b[0m\u001b[0;34m\u001b[0m\u001b[0m\n\u001b[0;32m--> 230\u001b[0;31m         \u001b[0;32mreturn\u001b[0m \u001b[0m_open_file\u001b[0m\u001b[0;34m(\u001b[0m\u001b[0mname_or_buffer\u001b[0m\u001b[0;34m,\u001b[0m \u001b[0mmode\u001b[0m\u001b[0;34m)\u001b[0m\u001b[0;34m\u001b[0m\u001b[0;34m\u001b[0m\u001b[0m\n\u001b[0m\u001b[1;32m    231\u001b[0m     \u001b[0;32melse\u001b[0m\u001b[0;34m:\u001b[0m\u001b[0;34m\u001b[0m\u001b[0;34m\u001b[0m\u001b[0m\n\u001b[1;32m    232\u001b[0m         \u001b[0;32mif\u001b[0m \u001b[0;34m'w'\u001b[0m \u001b[0;32min\u001b[0m \u001b[0mmode\u001b[0m\u001b[0;34m:\u001b[0m\u001b[0;34m\u001b[0m\u001b[0;34m\u001b[0m\u001b[0m\n",
            "\u001b[0;32m/usr/local/lib/python3.7/dist-packages/torch/serialization.py\u001b[0m in \u001b[0;36m__init__\u001b[0;34m(self, name, mode)\u001b[0m\n\u001b[1;32m    209\u001b[0m \u001b[0;32mclass\u001b[0m \u001b[0m_open_file\u001b[0m\u001b[0;34m(\u001b[0m\u001b[0m_opener\u001b[0m\u001b[0;34m)\u001b[0m\u001b[0;34m:\u001b[0m\u001b[0;34m\u001b[0m\u001b[0;34m\u001b[0m\u001b[0m\n\u001b[1;32m    210\u001b[0m     \u001b[0;32mdef\u001b[0m \u001b[0m__init__\u001b[0m\u001b[0;34m(\u001b[0m\u001b[0mself\u001b[0m\u001b[0;34m,\u001b[0m \u001b[0mname\u001b[0m\u001b[0;34m,\u001b[0m \u001b[0mmode\u001b[0m\u001b[0;34m)\u001b[0m\u001b[0;34m:\u001b[0m\u001b[0;34m\u001b[0m\u001b[0;34m\u001b[0m\u001b[0m\n\u001b[0;32m--> 211\u001b[0;31m         \u001b[0msuper\u001b[0m\u001b[0;34m(\u001b[0m\u001b[0m_open_file\u001b[0m\u001b[0;34m,\u001b[0m \u001b[0mself\u001b[0m\u001b[0;34m)\u001b[0m\u001b[0;34m.\u001b[0m\u001b[0m__init__\u001b[0m\u001b[0;34m(\u001b[0m\u001b[0mopen\u001b[0m\u001b[0;34m(\u001b[0m\u001b[0mname\u001b[0m\u001b[0;34m,\u001b[0m \u001b[0mmode\u001b[0m\u001b[0;34m)\u001b[0m\u001b[0;34m)\u001b[0m\u001b[0;34m\u001b[0m\u001b[0;34m\u001b[0m\u001b[0m\n\u001b[0m\u001b[1;32m    212\u001b[0m \u001b[0;34m\u001b[0m\u001b[0m\n\u001b[1;32m    213\u001b[0m     \u001b[0;32mdef\u001b[0m \u001b[0m__exit__\u001b[0m\u001b[0;34m(\u001b[0m\u001b[0mself\u001b[0m\u001b[0;34m,\u001b[0m \u001b[0;34m*\u001b[0m\u001b[0margs\u001b[0m\u001b[0;34m)\u001b[0m\u001b[0;34m:\u001b[0m\u001b[0;34m\u001b[0m\u001b[0;34m\u001b[0m\u001b[0m\n",
            "\u001b[0;31mFileNotFoundError\u001b[0m: [Errno 2] No such file or directory: 'impala_logs/torchbeast-20220116-222218/model.tar'"
          ]
        }
      ],
      "source": [
        "impala.set_env(e_trade_gym)\n",
        "account_values, actions = impala.test(FLAGS)\n",
        "df_account_value = pd.DataFrame(dict(date=trade.date[~trade.date.duplicated(keep='last')],\n",
        "                                     account_value=account_values))\n",
        "df_account_value\n"
      ]
    },
    {
      "cell_type": "markdown",
      "metadata": {
        "id": "1sHqjmMo6BBt"
      },
      "source": [
        "   <a id='6'></a>\n",
        "   # Part 7: Backtest Our Strategy\n",
        "   Backtesting plays a key role in evaluating the performance of a trading strategy. Automated backtesting tool is preferred because it reduces the human error. We usually use the Quantopian pyfolio package to backtest our trading strategies. It is easy to use and consists of various individual plots that provide a comprehensive image of the performance of a trading strategy."
      ]
    },
    {
      "cell_type": "markdown",
      "metadata": {
        "id": "p3cC0eWH6BBu"
      },
      "source": [
        "   <a id='6.1'></a>\n",
        "   ## 7.1 BackTestStats\n",
        "   pass in df_account_value, this information is stored in env class\n"
      ]
    },
    {
      "cell_type": "code",
      "execution_count": null,
      "metadata": {
        "id": "z0kgYMC_6BBv"
      },
      "outputs": [],
      "source": [
        "print(\"==============Get Backtest Results===========\")\n",
        "now = datetime.datetime.now().strftime('%Y%m%d-%Hh%M')\n",
        "\n",
        "perf_stats_all = backtest_stats(account_value=df_account_value)\n",
        "perf_stats_all = pd.DataFrame(perf_stats_all)\n",
        "perf_stats_all.to_csv(\"./\"+config.RESULTS_DIR+\"/perf_stats_all_\"+now+'.csv')"
      ]
    },
    {
      "cell_type": "code",
      "execution_count": null,
      "metadata": {
        "id": "AWeSiXjI6BB0"
      },
      "outputs": [],
      "source": [
        "#baseline stats\n",
        "print(\"==============Get Baseline Stats===========\")\n",
        "baseline_df = get_baseline(\n",
        "        ticker=\"^DJI\", \n",
        "        start = df_account_value.loc[0,'date'],\n",
        "        end = df_account_value.loc[len(df_account_value)-1,'date'])\n",
        "\n",
        "stats = backtest_stats(baseline_df, value_col_name = 'close')"
      ]
    },
    {
      "cell_type": "code",
      "execution_count": null,
      "metadata": {
        "id": "uk-NbBCJ6BB3"
      },
      "outputs": [],
      "source": [
        "df_account_value.loc[0,'date']"
      ]
    },
    {
      "cell_type": "code",
      "execution_count": null,
      "metadata": {
        "id": "WaGPiXlo6BB5"
      },
      "outputs": [],
      "source": [
        "df_account_value.loc[len(df_account_value)-1,'date']"
      ]
    },
    {
      "cell_type": "markdown",
      "metadata": {
        "id": "E5ACuDeY6BB6"
      },
      "source": [
        "   <a id='6.2'></a>\n",
        "   ## 7.2 BackTestPlot"
      ]
    },
    {
      "cell_type": "code",
      "execution_count": null,
      "metadata": {
        "id": "5vyno68c6BB7"
      },
      "outputs": [],
      "source": [
        "print(\"==============Compare to DJIA===========\")\n",
        "\n",
        "# S&P 500: ^GSPC\n",
        "# Dow Jones Index: ^DJI\n",
        "# NASDAQ 100: ^NDX\n",
        "backtest_plot(df_account_value, \n",
        "             baseline_ticker = '^DJI', \n",
        "             baseline_start = df_account_value.loc[0,'date'],\n",
        "             baseline_end = df_account_value.loc[len(df_account_value)-1,'date'])\n"
      ]
    },
    {
      "cell_type": "markdown",
      "metadata": {
        "id": "Zti4rUqM6BB9"
      },
      "source": [
        "  <a id='6.3'></a>\n",
        "  ## 7.3 TransactionPlot"
      ]
    },
    {
      "cell_type": "code",
      "execution_count": null,
      "metadata": {
        "id": "8YwR_BPL6BB-"
      },
      "outputs": [],
      "source": [
        "df_actions = pd.DataFrame(actions,\n",
        "                          index=df_account_value.date,\n",
        "                          columns=config.DOW_30_TICKER)\n",
        "df_actions.head()"
      ]
    },
    {
      "cell_type": "code",
      "execution_count": null,
      "metadata": {
        "id": "nWHqI5_M6BCA"
      },
      "outputs": [],
      "source": [
        "def trx_plot(df_trade, df_actions, tics=None):\n",
        "    \"\"\"Plot transactions.\"\"\"\n",
        "    import matplotlib.dates as mdates\n",
        "\n",
        "    df_trx = df_actions\n",
        "\n",
        "    if tics is None:\n",
        "        tics = list(df_trx)\n",
        "\n",
        "    for tic in tics:\n",
        "        df_trx_temp = df_trx[tic]\n",
        "        df_trx_temp_sign = np.sign(df_trx_temp)\n",
        "        buying_signal = df_trx_temp_sign.apply(lambda x: True if x > 0 else False)\n",
        "        selling_signal = df_trx_temp_sign.apply(lambda x: True if x < 0 else False)\n",
        "\n",
        "        tic_plot = df_trade[\n",
        "            (df_trade[\"tic\"] == df_trx_temp.name)\n",
        "            & (df_trade[\"date\"].isin(df_trx.index))\n",
        "        ][\"close\"]\n",
        "        tic_plot.index = df_trx_temp.index\n",
        "\n",
        "        plt.figure(figsize=(10, 8))\n",
        "        plt.plot(tic_plot, color=\"g\", lw=2.0)\n",
        "        plt.plot(\n",
        "            tic_plot,\n",
        "            \"^\",\n",
        "            markersize=10,\n",
        "            color=\"m\",\n",
        "            label=\"buying signal\",\n",
        "            markevery=list(buying_signal),\n",
        "        )\n",
        "        plt.plot(\n",
        "            tic_plot,\n",
        "            \"v\",\n",
        "            markersize=10,\n",
        "            color=\"k\",\n",
        "            label=\"selling signal\",\n",
        "            markevery=list(selling_signal),\n",
        "        )\n",
        "        plt.title(\n",
        "            f\"{df_trx_temp.name} Num Transactions: {len(buying_signal[buying_signal==True]) + len(selling_signal[selling_signal==True])}\"\n",
        "        )\n",
        "        plt.legend()\n",
        "        plt.gca().xaxis.set_major_locator(mdates.DayLocator(interval=25))\n",
        "        plt.xticks(rotation=45, ha=\"right\")\n",
        "        plt.show()\n",
        "\n",
        "# trx_plot(trade, df_actions)"
      ]
    }
  ],
  "metadata": {
    "accelerator": "GPU",
    "colab": {
      "name": "main0.ipynb",
      "provenance": []
    },
    "interpreter": {
      "hash": "8bc98feb4915167fd35a0418453d88501bdd7b50aecc10dd8fe0cf7dbece637d"
    },
    "kernelspec": {
      "display_name": "Python 3.8.3 64-bit ('dwai': conda)",
      "language": "python",
      "name": "python3"
    },
    "language_info": {
      "codemirror_mode": {
        "name": "ipython",
        "version": 3
      },
      "file_extension": ".py",
      "mimetype": "text/x-python",
      "name": "python",
      "nbconvert_exporter": "python",
      "pygments_lexer": "ipython3",
      "version": "3.8.3"
    },
    "orig_nbformat": 4
  },
  "nbformat": 4,
  "nbformat_minor": 0
}
